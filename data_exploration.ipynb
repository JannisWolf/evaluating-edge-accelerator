{
  "nbformat": 4,
  "nbformat_minor": 0,
  "metadata": {
    "colab": {
      "name": "Untitled5.ipynb",
      "provenance": [],
      "authorship_tag": "ABX9TyNnxfDjz0YGrtMEiqLSfzLw",
      "include_colab_link": true
    },
    "kernelspec": {
      "name": "python3",
      "display_name": "Python 3"
    },
    "language_info": {
      "name": "python"
    }
  },
  "cells": [
    {
      "cell_type": "markdown",
      "metadata": {
        "id": "view-in-github",
        "colab_type": "text"
      },
      "source": [
        "<a href=\"https://colab.research.google.com/github/JannisWolf/evaluating-edge-accelerators/blob/main/data_exploration.ipynb\" target=\"_parent\"><img src=\"https://colab.research.google.com/assets/colab-badge.svg\" alt=\"Open In Colab\"/></a>"
      ]
    },
    {
      "cell_type": "markdown",
      "metadata": {
        "id": "HkDQqe76s9H3"
      },
      "source": [
        "This notebook is for data exploration. Plots one sample of the data. "
      ]
    },
    {
      "cell_type": "code",
      "metadata": {
        "id": "OfJJHFk1sOIv"
      },
      "source": [
        "import matplotlib.pyplot as plt"
      ],
      "execution_count": 1,
      "outputs": []
    },
    {
      "cell_type": "code",
      "metadata": {
        "id": "dkjU8r0psPPv"
      },
      "source": [
        "# remove if not using google colab\n",
        "from google.colab import drive\n",
        "drive.mount('/content/gdrive')"
      ],
      "execution_count": null,
      "outputs": []
    },
    {
      "cell_type": "code",
      "metadata": {
        "id": "1qErEca0sYZM"
      },
      "source": [
        "# set paths accordingly\n",
        "path2data = '/content/gdrive/My Drive/data/autoencoder/testseqs.npz'\n",
        "path2plot = '/content/gdrive/My Drive/data/hist_plot.png'"
      ],
      "execution_count": null,
      "outputs": []
    },
    {
      "cell_type": "code",
      "metadata": {
        "id": "xWkXOD16tQGH"
      },
      "source": [
        "def loadTensor(fileName):\n",
        "  if fileName.endswith(\"npz\"):\n",
        "    return np.load(fileName, encoding=\"bytes\", allow_pickle=True)[\"arr_0\"]"
      ],
      "execution_count": null,
      "outputs": []
    },
    {
      "cell_type": "code",
      "metadata": {
        "id": "LTjBA7WHsP4X"
      },
      "source": [
        "unnormalized = loadTensor(path2data)\n",
        "plt.title(\"Histogram of one test sample\")\n",
        "plt.hist(unnormalized[0].flatten(), bins=\"auto\")\n",
        "plt.savefig(path2plot, dpi=300)"
      ],
      "execution_count": null,
      "outputs": []
    }
  ]
}